{
 "cells": [
  {
   "cell_type": "markdown",
   "metadata": {},
   "source": [
    "### What is the dataset about <br>\n",
    "\n",
    "This dataset was provided by Yummly and is included in a Kaggle competition named \"<a href=\"https://www.kaggle.com/c/whats-cooking\">What's Cooking?</a>\". The dataset consists of 3 columns: id, ingredients and cuisine and has a total of 39,000 training examples distributed accross 20 cuisine categories. The data is stored in JSON Format and 2 files: train.json, test.json are provided in the dataset. <br>\n",
    "\n",
    "train.json - Train set contains recipe id, type of cuisine, and list of ingredients. <br>\n",
    "test.json - Test set contains recipe id and list of ingredients.\n",
    "\n",
    "<b><i>Attribute Explanation:</b></i>\n",
    "\n",
    "id: Unique identifier for recipe i.e. recipe id <br>\n",
    "ingredients: List of different ingredients that constitute to the recipe <br>\n",
    "cuisine: Type of cuisine the recipe falls into (Target variable)\n",
    "\n",
    "Link to dataset: https://www.kaggle.com/datasets/kaggle/recipe-ingredients-dataset <br>\n",
    "\n",
    "### Aim / Problem Statement <br>\n",
    "\n",
    "The aim of the data is to predict the cuisine category, given the list of ingredients as input. The categories of cuisine, in the dataset are: <br>\n",
    "'brazilian', 'british', 'cajun_creole', 'chinese', 'filipino', 'french', 'greek', 'indian', 'irish', 'italian', 'jamaican', 'japanese', 'korean', 'mexican', 'moroccan', 'russian', 'southern_us', 'spanish', 'thai', 'vietnamese' <br>\n",
    "\n",
    "### Contents <br>\n",
    "The Kaggle competition contains some data wrangling questions as well, apart from prediction of cuisine category. All of these are included in this current notebook (Part 1). <br>\n",
    "Thus, following are the Part 1 and Part 2 Notebook Contents:\n",
    "\n",
    "Part 1 Contents:\n",
    "\n",
    "1) Answering the questions from the Kaggle competition. <br>\n",
    "2) Creating corresponding code snippets for the questions, and providing relevant output.\n",
    "\n",
    "Part 2 Contents:\n",
    "\n",
    "1) Creating a Classification model for cuisine category prediction. <br>\n",
    "2) Peforming pre-processing on the text, and choosing relevant model for prediction. <br>\n",
    "3) Noting future work that can be done for improving the model performance.\n",
    "\n",
    "Let's glance through Part 1 Contents."
   ]
  },
  {
   "cell_type": "markdown",
   "metadata": {},
   "source": [
    "### Read training set and test set\n",
    "- read `train.json` as train_df \n",
    "- split train_df into 80% training data and 20% for validation"
   ]
  },
  {
   "cell_type": "code",
   "execution_count": 1,
   "metadata": {},
   "outputs": [],
   "source": [
    "# Importing necessary libraries\n",
    "\n",
    "import pandas as pd\n",
    "import json"
   ]
  },
  {
   "cell_type": "code",
   "execution_count": 2,
   "metadata": {},
   "outputs": [
    {
     "data": {
      "text/plain": [
       "{'id': 10259,\n",
       " 'cuisine': 'greek',\n",
       " 'ingredients': ['romaine lettuce',\n",
       "  'black olives',\n",
       "  'grape tomatoes',\n",
       "  'garlic',\n",
       "  'pepper',\n",
       "  'purple onion',\n",
       "  'seasoning',\n",
       "  'garbanzo beans',\n",
       "  'feta cheese crumbles']}"
      ]
     },
     "execution_count": 2,
     "metadata": {},
     "output_type": "execute_result"
    }
   ],
   "source": [
    "# Reading file contents of train.json\n",
    "\n",
    "train_file = open(\"Recipe Ingredients/train.json\")\n",
    "train_json = json.load(train_file)\n",
    "train_file.close()\n",
    "train_json[0]"
   ]
  },
  {
   "cell_type": "code",
   "execution_count": 3,
   "metadata": {
    "scrolled": false
   },
   "outputs": [
    {
     "data": {
      "text/html": [
       "<div>\n",
       "<style scoped>\n",
       "    .dataframe tbody tr th:only-of-type {\n",
       "        vertical-align: middle;\n",
       "    }\n",
       "\n",
       "    .dataframe tbody tr th {\n",
       "        vertical-align: top;\n",
       "    }\n",
       "\n",
       "    .dataframe thead th {\n",
       "        text-align: right;\n",
       "    }\n",
       "</style>\n",
       "<table border=\"1\" class=\"dataframe\">\n",
       "  <thead>\n",
       "    <tr style=\"text-align: right;\">\n",
       "      <th></th>\n",
       "      <th>id</th>\n",
       "      <th>cuisine</th>\n",
       "      <th>ingredients</th>\n",
       "    </tr>\n",
       "  </thead>\n",
       "  <tbody>\n",
       "    <tr>\n",
       "      <th>0</th>\n",
       "      <td>10259</td>\n",
       "      <td>greek</td>\n",
       "      <td>[romaine lettuce, black olives, grape tomatoes...</td>\n",
       "    </tr>\n",
       "    <tr>\n",
       "      <th>1</th>\n",
       "      <td>25693</td>\n",
       "      <td>southern_us</td>\n",
       "      <td>[plain flour, ground pepper, salt, tomatoes, g...</td>\n",
       "    </tr>\n",
       "    <tr>\n",
       "      <th>2</th>\n",
       "      <td>20130</td>\n",
       "      <td>filipino</td>\n",
       "      <td>[eggs, pepper, salt, mayonaise, cooking oil, g...</td>\n",
       "    </tr>\n",
       "    <tr>\n",
       "      <th>3</th>\n",
       "      <td>22213</td>\n",
       "      <td>indian</td>\n",
       "      <td>[water, vegetable oil, wheat, salt]</td>\n",
       "    </tr>\n",
       "    <tr>\n",
       "      <th>4</th>\n",
       "      <td>13162</td>\n",
       "      <td>indian</td>\n",
       "      <td>[black pepper, shallots, cornflour, cayenne pe...</td>\n",
       "    </tr>\n",
       "  </tbody>\n",
       "</table>\n",
       "</div>"
      ],
      "text/plain": [
       "      id      cuisine                                        ingredients\n",
       "0  10259        greek  [romaine lettuce, black olives, grape tomatoes...\n",
       "1  25693  southern_us  [plain flour, ground pepper, salt, tomatoes, g...\n",
       "2  20130     filipino  [eggs, pepper, salt, mayonaise, cooking oil, g...\n",
       "3  22213       indian                [water, vegetable oil, wheat, salt]\n",
       "4  13162       indian  [black pepper, shallots, cornflour, cayenne pe..."
      ]
     },
     "execution_count": 3,
     "metadata": {},
     "output_type": "execute_result"
    }
   ],
   "source": [
    "# Constructing train_df from the train.json contents\n",
    "\n",
    "train_df = pd.DataFrame(train_json)\n",
    "train_df.head()"
   ]
  },
  {
   "cell_type": "code",
   "execution_count": 4,
   "metadata": {},
   "outputs": [
    {
     "data": {
      "text/plain": [
       "{'id': 18009,\n",
       " 'ingredients': ['baking powder',\n",
       "  'eggs',\n",
       "  'all-purpose flour',\n",
       "  'raisins',\n",
       "  'milk',\n",
       "  'white sugar']}"
      ]
     },
     "execution_count": 4,
     "metadata": {},
     "output_type": "execute_result"
    }
   ],
   "source": [
    "# Reading file contents of test.json\n",
    "\n",
    "test_file = open(\"Recipe Ingredients/test.json\")\n",
    "test_json = json.load(test_file)\n",
    "test_file.close()\n",
    "test_json[0]"
   ]
  },
  {
   "cell_type": "code",
   "execution_count": 5,
   "metadata": {
    "scrolled": false
   },
   "outputs": [
    {
     "data": {
      "text/html": [
       "<div>\n",
       "<style scoped>\n",
       "    .dataframe tbody tr th:only-of-type {\n",
       "        vertical-align: middle;\n",
       "    }\n",
       "\n",
       "    .dataframe tbody tr th {\n",
       "        vertical-align: top;\n",
       "    }\n",
       "\n",
       "    .dataframe thead th {\n",
       "        text-align: right;\n",
       "    }\n",
       "</style>\n",
       "<table border=\"1\" class=\"dataframe\">\n",
       "  <thead>\n",
       "    <tr style=\"text-align: right;\">\n",
       "      <th></th>\n",
       "      <th>id</th>\n",
       "      <th>ingredients</th>\n",
       "    </tr>\n",
       "  </thead>\n",
       "  <tbody>\n",
       "    <tr>\n",
       "      <th>0</th>\n",
       "      <td>18009</td>\n",
       "      <td>[baking powder, eggs, all-purpose flour, raisi...</td>\n",
       "    </tr>\n",
       "    <tr>\n",
       "      <th>1</th>\n",
       "      <td>28583</td>\n",
       "      <td>[sugar, egg yolks, corn starch, cream of tarta...</td>\n",
       "    </tr>\n",
       "    <tr>\n",
       "      <th>2</th>\n",
       "      <td>41580</td>\n",
       "      <td>[sausage links, fennel bulb, fronds, olive oil...</td>\n",
       "    </tr>\n",
       "    <tr>\n",
       "      <th>3</th>\n",
       "      <td>29752</td>\n",
       "      <td>[meat cuts, file powder, smoked sausage, okra,...</td>\n",
       "    </tr>\n",
       "    <tr>\n",
       "      <th>4</th>\n",
       "      <td>35687</td>\n",
       "      <td>[ground black pepper, salt, sausage casings, l...</td>\n",
       "    </tr>\n",
       "  </tbody>\n",
       "</table>\n",
       "</div>"
      ],
      "text/plain": [
       "      id                                        ingredients\n",
       "0  18009  [baking powder, eggs, all-purpose flour, raisi...\n",
       "1  28583  [sugar, egg yolks, corn starch, cream of tarta...\n",
       "2  41580  [sausage links, fennel bulb, fronds, olive oil...\n",
       "3  29752  [meat cuts, file powder, smoked sausage, okra,...\n",
       "4  35687  [ground black pepper, salt, sausage casings, l..."
      ]
     },
     "execution_count": 5,
     "metadata": {},
     "output_type": "execute_result"
    }
   ],
   "source": [
    "# Constructing test_df from the test.json contents\n",
    "\n",
    "test_df = pd.DataFrame(test_json)\n",
    "test_df.head()"
   ]
  },
  {
   "cell_type": "markdown",
   "metadata": {},
   "source": [
    "#### Splitting train_df into 80% Training and 20% Validation sets"
   ]
  },
  {
   "cell_type": "code",
   "execution_count": 6,
   "metadata": {},
   "outputs": [],
   "source": [
    "from sklearn.model_selection import train_test_split\n",
    "\n",
    "X = train_df.drop('cuisine', axis=1)\n",
    "Y = train_df['cuisine']\n",
    "train_X, val_X, train_Y, val_Y = train_test_split(X, Y, test_size=0.2, random_state=101)"
   ]
  },
  {
   "cell_type": "code",
   "execution_count": 7,
   "metadata": {},
   "outputs": [
    {
     "name": "stdout",
     "output_type": "stream",
     "text": [
      "X.shape:  (39774, 2)\n",
      "Y.shape:  (39774,)\n",
      "-----------------------------\n",
      "train_X.shape:  (31819, 2)\n",
      "val_X.shape:  (7955, 2)\n",
      "train_Y.shape:  (31819,)\n",
      "val_Y.shape:  (7955,)\n"
     ]
    }
   ],
   "source": [
    "# Getting overview of training and validation sets shapes\n",
    "\n",
    "print(\"X.shape: \",X.shape)\n",
    "print(\"Y.shape: \",Y.shape)\n",
    "print(\"-----------------------------\")\n",
    "print(\"train_X.shape: \",train_X.shape)\n",
    "print(\"val_X.shape: \",val_X.shape)\n",
    "print(\"train_Y.shape: \",train_Y.shape)\n",
    "print(\"val_Y.shape: \",val_Y.shape)"
   ]
  },
  {
   "cell_type": "markdown",
   "metadata": {},
   "source": [
    "## Calculate the average number of Ingredients for each cuisine for train_df"
   ]
  },
  {
   "cell_type": "code",
   "execution_count": 8,
   "metadata": {},
   "outputs": [],
   "source": [
    "# Maintaining list of number of ingredients for each cuisine\n",
    "# Following for loop calculates total number of ingredients for each recipe and stores it in a list: number_of_ingredients\n",
    "number_of_ingredients = []\n",
    "\n",
    "for ingredients in train_df[\"ingredients\"]:\n",
    "    length_ingredients = len(ingredients)\n",
    "    number_of_ingredients.append(length_ingredients)"
   ]
  },
  {
   "cell_type": "code",
   "execution_count": 9,
   "metadata": {
    "scrolled": false
   },
   "outputs": [
    {
     "data": {
      "text/html": [
       "<div>\n",
       "<style scoped>\n",
       "    .dataframe tbody tr th:only-of-type {\n",
       "        vertical-align: middle;\n",
       "    }\n",
       "\n",
       "    .dataframe tbody tr th {\n",
       "        vertical-align: top;\n",
       "    }\n",
       "\n",
       "    .dataframe thead th {\n",
       "        text-align: right;\n",
       "    }\n",
       "</style>\n",
       "<table border=\"1\" class=\"dataframe\">\n",
       "  <thead>\n",
       "    <tr style=\"text-align: right;\">\n",
       "      <th></th>\n",
       "      <th>id</th>\n",
       "      <th>cuisine</th>\n",
       "      <th>ingredients</th>\n",
       "      <th>number_of_ingredients</th>\n",
       "    </tr>\n",
       "  </thead>\n",
       "  <tbody>\n",
       "    <tr>\n",
       "      <th>0</th>\n",
       "      <td>10259</td>\n",
       "      <td>greek</td>\n",
       "      <td>[romaine lettuce, black olives, grape tomatoes...</td>\n",
       "      <td>9</td>\n",
       "    </tr>\n",
       "    <tr>\n",
       "      <th>1</th>\n",
       "      <td>25693</td>\n",
       "      <td>southern_us</td>\n",
       "      <td>[plain flour, ground pepper, salt, tomatoes, g...</td>\n",
       "      <td>11</td>\n",
       "    </tr>\n",
       "    <tr>\n",
       "      <th>2</th>\n",
       "      <td>20130</td>\n",
       "      <td>filipino</td>\n",
       "      <td>[eggs, pepper, salt, mayonaise, cooking oil, g...</td>\n",
       "      <td>12</td>\n",
       "    </tr>\n",
       "    <tr>\n",
       "      <th>3</th>\n",
       "      <td>22213</td>\n",
       "      <td>indian</td>\n",
       "      <td>[water, vegetable oil, wheat, salt]</td>\n",
       "      <td>4</td>\n",
       "    </tr>\n",
       "    <tr>\n",
       "      <th>4</th>\n",
       "      <td>13162</td>\n",
       "      <td>indian</td>\n",
       "      <td>[black pepper, shallots, cornflour, cayenne pe...</td>\n",
       "      <td>20</td>\n",
       "    </tr>\n",
       "  </tbody>\n",
       "</table>\n",
       "</div>"
      ],
      "text/plain": [
       "      id      cuisine                                        ingredients  \\\n",
       "0  10259        greek  [romaine lettuce, black olives, grape tomatoes...   \n",
       "1  25693  southern_us  [plain flour, ground pepper, salt, tomatoes, g...   \n",
       "2  20130     filipino  [eggs, pepper, salt, mayonaise, cooking oil, g...   \n",
       "3  22213       indian                [water, vegetable oil, wheat, salt]   \n",
       "4  13162       indian  [black pepper, shallots, cornflour, cayenne pe...   \n",
       "\n",
       "   number_of_ingredients  \n",
       "0                      9  \n",
       "1                     11  \n",
       "2                     12  \n",
       "3                      4  \n",
       "4                     20  "
      ]
     },
     "execution_count": 9,
     "metadata": {},
     "output_type": "execute_result"
    }
   ],
   "source": [
    "# Adding the newly created column contents: number_of_ingredients to train_df\n",
    "\n",
    "train_df[\"number_of_ingredients\"] = pd.Series(number_of_ingredients)\n",
    "train_df.head()"
   ]
  },
  {
   "cell_type": "code",
   "execution_count": 10,
   "metadata": {},
   "outputs": [
    {
     "name": "stdout",
     "output_type": "stream",
     "text": [
      "Average number of Ingredients for each cuisine:\n"
     ]
    },
    {
     "data": {
      "text/plain": [
       "cuisine\n",
       "brazilian        9.520343\n",
       "british          9.708955\n",
       "cajun_creole    12.617076\n",
       "chinese         11.982791\n",
       "filipino        10.000000\n",
       "french           9.817838\n",
       "greek           10.182128\n",
       "indian          12.705961\n",
       "irish            9.299850\n",
       "italian          9.909033\n",
       "jamaican        12.214829\n",
       "japanese         9.735067\n",
       "korean          11.284337\n",
       "mexican         10.877446\n",
       "moroccan        12.909866\n",
       "russian         10.224949\n",
       "southern_us      9.634954\n",
       "spanish         10.423660\n",
       "thai            12.545809\n",
       "vietnamese      12.675152\n",
       "Name: number_of_ingredients, dtype: float64"
      ]
     },
     "execution_count": 10,
     "metadata": {},
     "output_type": "execute_result"
    }
   ],
   "source": [
    "# Grouping recipes as per cuisine and finding out average number of ingredients\n",
    "\n",
    "print(\"Average number of Ingredients for each cuisine:\")\n",
    "train_df.groupby(\"cuisine\")[\"number_of_ingredients\"].mean()"
   ]
  },
  {
   "cell_type": "markdown",
   "metadata": {},
   "source": [
    "## Find top 5 most common ingredients in training set"
   ]
  },
  {
   "cell_type": "code",
   "execution_count": 11,
   "metadata": {},
   "outputs": [],
   "source": [
    "# Creating a dictionary: ingredients_count that contains each ingredients' count\n",
    "# Following for loop initializes of each new ingredient and updates the count of existing ingredients\n",
    "\n",
    "ingredients_count = {}\n",
    "\n",
    "for ingredients in train_df[\"ingredients\"]:\n",
    "    for item in ingredients:\n",
    "        if item in ingredients_count:\n",
    "            ingredients_count[item] = ingredients_count[item] + 1\n",
    "        else:\n",
    "            ingredients_count[item] = 1"
   ]
  },
  {
   "cell_type": "code",
   "execution_count": 12,
   "metadata": {},
   "outputs": [
    {
     "data": {
      "text/plain": [
       "[('salt', 18049),\n",
       " ('onions', 7972),\n",
       " ('olive oil', 7972),\n",
       " ('water', 7457),\n",
       " ('garlic', 7380)]"
      ]
     },
     "execution_count": 12,
     "metadata": {},
     "output_type": "execute_result"
    }
   ],
   "source": [
    "# Sorting the ingredients as per their counts in reverse order, so that we can get top 5 most common ingredients\n",
    "\n",
    "sortedCount = sorted(ingredients_count.items(), key=lambda kv:(kv[1], kv[0]), reverse=1)[:5]\n",
    "sortedCount"
   ]
  },
  {
   "cell_type": "code",
   "execution_count": 13,
   "metadata": {},
   "outputs": [
    {
     "name": "stdout",
     "output_type": "stream",
     "text": [
      "Top 5 most common ingredients and their value counts:\n"
     ]
    },
    {
     "data": {
      "text/html": [
       "<div>\n",
       "<style scoped>\n",
       "    .dataframe tbody tr th:only-of-type {\n",
       "        vertical-align: middle;\n",
       "    }\n",
       "\n",
       "    .dataframe tbody tr th {\n",
       "        vertical-align: top;\n",
       "    }\n",
       "\n",
       "    .dataframe thead th {\n",
       "        text-align: right;\n",
       "    }\n",
       "</style>\n",
       "<table border=\"1\" class=\"dataframe\">\n",
       "  <thead>\n",
       "    <tr style=\"text-align: right;\">\n",
       "      <th></th>\n",
       "      <th>Ingredient</th>\n",
       "      <th>Count</th>\n",
       "    </tr>\n",
       "  </thead>\n",
       "  <tbody>\n",
       "    <tr>\n",
       "      <th>0</th>\n",
       "      <td>salt</td>\n",
       "      <td>18049</td>\n",
       "    </tr>\n",
       "    <tr>\n",
       "      <th>1</th>\n",
       "      <td>onions</td>\n",
       "      <td>7972</td>\n",
       "    </tr>\n",
       "    <tr>\n",
       "      <th>2</th>\n",
       "      <td>olive oil</td>\n",
       "      <td>7972</td>\n",
       "    </tr>\n",
       "    <tr>\n",
       "      <th>3</th>\n",
       "      <td>water</td>\n",
       "      <td>7457</td>\n",
       "    </tr>\n",
       "    <tr>\n",
       "      <th>4</th>\n",
       "      <td>garlic</td>\n",
       "      <td>7380</td>\n",
       "    </tr>\n",
       "  </tbody>\n",
       "</table>\n",
       "</div>"
      ],
      "text/plain": [
       "  Ingredient  Count\n",
       "0       salt  18049\n",
       "1     onions   7972\n",
       "2  olive oil   7972\n",
       "3      water   7457\n",
       "4     garlic   7380"
      ]
     },
     "execution_count": 13,
     "metadata": {},
     "output_type": "execute_result"
    }
   ],
   "source": [
    "# Creating a dataframe and displaying the 5 most common ingredients with their total counts\n",
    "\n",
    "print(\"Top 5 most common ingredients and their value counts:\")\n",
    "df = pd.DataFrame(sortedCount, columns=[\"Ingredient\",\"Count\"])\n",
    "df"
   ]
  },
  {
   "cell_type": "markdown",
   "metadata": {},
   "source": [
    "## Calculate the most common ingredient in each cuisine (excluding 'salt','onions','olive oil')"
   ]
  },
  {
   "cell_type": "code",
   "execution_count": 14,
   "metadata": {},
   "outputs": [],
   "source": [
    "# Creating a dictionary: ingredients_count_in_cuisines which stores each cuisine category\n",
    "# The cuisine category is mapped to another dictionary corresponding to ingredients in the cuisine with their total counts\n",
    "# Following for loop adds new cuisines to the dictionary, with the ingredients and their value counts\n",
    "# It also updates the value counts of ingredients for specific cuisine\n",
    "# ingredients_to_exclude is a set which is used to exclude certain ingredients and their value counts in each cuisine\n",
    "# As it is mentioned in the question to exclude ingredients: \"salt\",\"onions\",\"olive oil\", we ignore these ingredients\n",
    "\n",
    "ingredients_count_in_cuisines = {}\n",
    "# Above dictionary will have such representation: {indian: {tomato:2, potato:3}}\n",
    "\n",
    "ingredients_to_exclude = {\"salt\",\"onions\",\"olive oil\"}\n",
    "\n",
    "for row_index in train_df.index:\n",
    "    \n",
    "    cuisine = train_df[\"cuisine\"][row_index]\n",
    "    ingredients = train_df[\"ingredients\"][row_index]\n",
    "    \n",
    "    if cuisine in ingredients_count_in_cuisines:\n",
    "        ingredients_count = ingredients_count_in_cuisines[cuisine]\n",
    "      \n",
    "        for item in ingredients:\n",
    "            if item not in ingredients_to_exclude:\n",
    "                if item in ingredients_count:\n",
    "                    ingredients_count[item] = ingredients_count[item] + 1\n",
    "                else:\n",
    "                    ingredients_count[item] = 1\n",
    "        ingredients_count_in_cuisines[cuisine] = ingredients_count\n",
    "        \n",
    "    else:\n",
    "        ingredients_count={item : 0 for item in ingredients}\n",
    "        ingredients_count_in_cuisines[cuisine] = ingredients_count"
   ]
  },
  {
   "cell_type": "code",
   "execution_count": 15,
   "metadata": {},
   "outputs": [
    {
     "name": "stdout",
     "output_type": "stream",
     "text": [
      "Most Common Ingredient in each Cuisine:\n"
     ]
    },
    {
     "data": {
      "text/html": [
       "<div>\n",
       "<style scoped>\n",
       "    .dataframe tbody tr th:only-of-type {\n",
       "        vertical-align: middle;\n",
       "    }\n",
       "\n",
       "    .dataframe tbody tr th {\n",
       "        vertical-align: top;\n",
       "    }\n",
       "\n",
       "    .dataframe thead th {\n",
       "        text-align: right;\n",
       "    }\n",
       "</style>\n",
       "<table border=\"1\" class=\"dataframe\">\n",
       "  <thead>\n",
       "    <tr style=\"text-align: right;\">\n",
       "      <th></th>\n",
       "      <th>Cuisine</th>\n",
       "      <th>Most Common Ingredient</th>\n",
       "    </tr>\n",
       "  </thead>\n",
       "  <tbody>\n",
       "    <tr>\n",
       "      <th>0</th>\n",
       "      <td>greek</td>\n",
       "      <td>dried oregano</td>\n",
       "    </tr>\n",
       "    <tr>\n",
       "      <th>1</th>\n",
       "      <td>southern_us</td>\n",
       "      <td>butter</td>\n",
       "    </tr>\n",
       "    <tr>\n",
       "      <th>2</th>\n",
       "      <td>filipino</td>\n",
       "      <td>garlic</td>\n",
       "    </tr>\n",
       "    <tr>\n",
       "      <th>3</th>\n",
       "      <td>indian</td>\n",
       "      <td>garam masala</td>\n",
       "    </tr>\n",
       "    <tr>\n",
       "      <th>4</th>\n",
       "      <td>jamaican</td>\n",
       "      <td>water</td>\n",
       "    </tr>\n",
       "    <tr>\n",
       "      <th>5</th>\n",
       "      <td>spanish</td>\n",
       "      <td>garlic cloves</td>\n",
       "    </tr>\n",
       "    <tr>\n",
       "      <th>6</th>\n",
       "      <td>italian</td>\n",
       "      <td>garlic cloves</td>\n",
       "    </tr>\n",
       "    <tr>\n",
       "      <th>7</th>\n",
       "      <td>mexican</td>\n",
       "      <td>ground cumin</td>\n",
       "    </tr>\n",
       "    <tr>\n",
       "      <th>8</th>\n",
       "      <td>chinese</td>\n",
       "      <td>soy sauce</td>\n",
       "    </tr>\n",
       "    <tr>\n",
       "      <th>9</th>\n",
       "      <td>british</td>\n",
       "      <td>all-purpose flour</td>\n",
       "    </tr>\n",
       "    <tr>\n",
       "      <th>10</th>\n",
       "      <td>thai</td>\n",
       "      <td>fish sauce</td>\n",
       "    </tr>\n",
       "    <tr>\n",
       "      <th>11</th>\n",
       "      <td>vietnamese</td>\n",
       "      <td>fish sauce</td>\n",
       "    </tr>\n",
       "    <tr>\n",
       "      <th>12</th>\n",
       "      <td>cajun_creole</td>\n",
       "      <td>garlic</td>\n",
       "    </tr>\n",
       "    <tr>\n",
       "      <th>13</th>\n",
       "      <td>brazilian</td>\n",
       "      <td>lime</td>\n",
       "    </tr>\n",
       "    <tr>\n",
       "      <th>14</th>\n",
       "      <td>french</td>\n",
       "      <td>sugar</td>\n",
       "    </tr>\n",
       "    <tr>\n",
       "      <th>15</th>\n",
       "      <td>japanese</td>\n",
       "      <td>soy sauce</td>\n",
       "    </tr>\n",
       "    <tr>\n",
       "      <th>16</th>\n",
       "      <td>irish</td>\n",
       "      <td>butter</td>\n",
       "    </tr>\n",
       "    <tr>\n",
       "      <th>17</th>\n",
       "      <td>korean</td>\n",
       "      <td>soy sauce</td>\n",
       "    </tr>\n",
       "    <tr>\n",
       "      <th>18</th>\n",
       "      <td>moroccan</td>\n",
       "      <td>ground cumin</td>\n",
       "    </tr>\n",
       "    <tr>\n",
       "      <th>19</th>\n",
       "      <td>russian</td>\n",
       "      <td>sugar</td>\n",
       "    </tr>\n",
       "  </tbody>\n",
       "</table>\n",
       "</div>"
      ],
      "text/plain": [
       "         Cuisine Most Common Ingredient\n",
       "0          greek          dried oregano\n",
       "1    southern_us                 butter\n",
       "2       filipino                 garlic\n",
       "3         indian           garam masala\n",
       "4       jamaican                  water\n",
       "5        spanish          garlic cloves\n",
       "6        italian          garlic cloves\n",
       "7        mexican           ground cumin\n",
       "8        chinese              soy sauce\n",
       "9        british      all-purpose flour\n",
       "10          thai             fish sauce\n",
       "11    vietnamese             fish sauce\n",
       "12  cajun_creole                 garlic\n",
       "13     brazilian                   lime\n",
       "14        french                  sugar\n",
       "15      japanese              soy sauce\n",
       "16         irish                 butter\n",
       "17        korean              soy sauce\n",
       "18      moroccan           ground cumin\n",
       "19       russian                  sugar"
      ]
     },
     "execution_count": 15,
     "metadata": {},
     "output_type": "execute_result"
    }
   ],
   "source": [
    "# Maintaining a dictionary: most_common_in_cuisinr, which stores cuisine and the most common ingredient\n",
    "# For this, we have utilized the dictionary created in previous code snippet: ingredients_count_in_cuisines\n",
    "# We have sorted the value counts of ingredients for each cuisine in reverse order, and got the most common ingredient\n",
    "# Later we have stored the final result in a dataframe and displayed the same\n",
    "\n",
    "most_common_in_cuisine={}\n",
    "print(\"Most Common Ingredient in each Cuisine:\")\n",
    "\n",
    "for cuisine in ingredients_count_in_cuisines.keys():\n",
    "    ingredients = ingredients_count_in_cuisines[cuisine]\n",
    "    most_common_ingredient = sorted(ingredients.items(), key=lambda kv:(kv[1], kv[0]), reverse=1)[0]\n",
    "    most_common_in_cuisine[cuisine] = most_common_ingredient[0]\n",
    "\n",
    "df=pd.DataFrame(most_common_in_cuisine.items(), columns=[\"Cuisine\",\"Most Common Ingredient\"])\n",
    "df"
   ]
  },
  {
   "cell_type": "markdown",
   "metadata": {},
   "source": [
    "## Create a classfication model to classify the cuisine\n",
    "- what are some models that you can think of?\n",
    "- what are the tradeoffs?"
   ]
  },
  {
   "cell_type": "markdown",
   "metadata": {},
   "source": [
    "This question is acknowledged in the 2nd Part of this Notebook: Recipe Classification using NLP Part 2. <br>\n",
    "Click <a href=\"https://github.com/shalaka-thorat/Recipe-Classification-using-NLP/blob/main/Recipe%20Classification%20using%20NLP%20Part%202.ipynb\">HERE</a> to go to Part 2 of the Notebook."
   ]
  }
 ],
 "metadata": {
  "kernelspec": {
   "display_name": "Python 3 (ipykernel)",
   "language": "python",
   "name": "python3"
  },
  "language_info": {
   "codemirror_mode": {
    "name": "ipython",
    "version": 3
   },
   "file_extension": ".py",
   "mimetype": "text/x-python",
   "name": "python",
   "nbconvert_exporter": "python",
   "pygments_lexer": "ipython3",
   "version": "3.9.12"
  }
 },
 "nbformat": 4,
 "nbformat_minor": 4
}
